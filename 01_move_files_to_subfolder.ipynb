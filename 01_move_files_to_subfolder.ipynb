{
 "cells": [
  {
   "cell_type": "code",
   "execution_count": 1,
   "id": "a35cb84f",
   "metadata": {},
   "outputs": [],
   "source": [
    "import glob\n",
    "from PyPDF2 import PdfReader\n",
    "import pandas as pd\n",
    "import numpy as np\n",
    "import docx\n",
    "from striprtf.striprtf import rtf_to_text\n",
    "import sys\n",
    "import os\n",
    "from bs4 import BeautifulSoup\n",
    "import comtypes.client #throwing error\n",
    "import shutil\n",
    "import win32com.client\n",
    "import pytesseract\n",
    "from PIL import Image\n",
    "from docx.api import Document\n",
    "import time\n",
    "import regex as re\n",
    "max_rec = 0x100000\n",
    "sys.setrecursionlimit(max_rec)\n",
    "pytesseract.pytesseract.tesseract_cmd = \"C:\\\\Users\\\\HaoLuo\\\\AppData\\\\Local\\\\Programs\\\\Tesseract-OCR\\\\tesseract.exe\""
   ]
  },
  {
   "cell_type": "code",
   "execution_count": 2,
   "id": "a807978e",
   "metadata": {},
   "outputs": [
    {
     "name": "stdout",
     "output_type": "stream",
     "text": [
      "Different Folder:  4.297196388244629\n"
     ]
    }
   ],
   "source": [
    "st = time.time()\n",
    "file_source = 'C:\\\\Users\\\\HaoLuo\\\\ACF-2023-0011\\\\ACF-2023-0011'\n",
    "os.chdir(file_source)\n",
    "directory = glob.glob('*')\n",
    "for file in directory:\n",
    "    if '.png' in file:\n",
    "        file_destination = 'C:\\\\Users\\\\HaoLuo\\\\2023_Attachments\\\\Other\\\\'\n",
    "        shutil.copy2(file_source+'\\\\'+file, file_destination)\n",
    "    elif '.jpg' in file:\n",
    "        file_destination = 'C:\\\\Users\\\\HaoLuo\\\\2023_Attachments\\\\Other\\\\'\n",
    "        shutil.move(file_source+'\\\\'+file, file_destination)\n",
    "    elif file[-5:]=='.docx':\n",
    "        file_destination = 'C:\\\\Users\\\\HaoLuo\\\\2023_Attachments\\\\Docx\\\\'\n",
    "        shutil.copy2(file_source+'\\\\'+file, file_destination)\n",
    "    elif '.rtf' in file:\n",
    "        file_destination = 'C:\\\\Users\\\\HaoLuo\\\\2023_Attachments\\\\Rtf\\\\'\n",
    "        shutil.copy2(file_source+'\\\\'+file, file_destination)\n",
    "    elif '.txt' in file:\n",
    "        file_destination = 'C:\\\\Users\\\\HaoLuo\\\\2023_Attachments\\\\Txt\\\\'\n",
    "        shutil.copy2(file_source+'\\\\'+file, file_destination)\n",
    "    elif '.pdf' in file:\n",
    "        file_destination = 'C:\\\\Users\\\\HaoLuo\\\\2023_Attachments\\\\Pdf\\\\'\n",
    "        shutil.move(file_source+'\\\\'+file, file_destination)\n",
    "    elif '.pptx' in file:\n",
    "        file_destination = 'C:\\\\Users\\\\HaoLuo\\\\2023_Attachments\\\\Pptx\\\\'\n",
    "        shutil.move(file_source+'\\\\'+file, file_destination)    \n",
    "print('Different Folder: ', time.time()-st)"
   ]
  },
  {
   "cell_type": "code",
   "execution_count": 3,
   "id": "27be0688",
   "metadata": {},
   "outputs": [],
   "source": [
    "# Converting pptx file into PDF\n",
    "def PPTtoPDF(filename, formatType = 32):\n",
    "    powerpoint = comtypes.client.CreateObject(\"Powerpoint.Application\")\n",
    "#    powerpoint.Visible = 1\n",
    "    in_file = os.path.abspath(filename)\n",
    "    out_file = os.path.abspath(filename[0:-5]+'.pdf')\n",
    "    deck = powerpoint.Presentations.Open(in_file)\n",
    "    deck.SaveAs(out_file, formatType) # formatType = 32 for ppt to pdf\n",
    "    deck.Close()\n",
    "    powerpoint.Quit()"
   ]
  },
  {
   "cell_type": "code",
   "execution_count": 5,
   "id": "ed52cf58",
   "metadata": {},
   "outputs": [
    {
     "name": "stdout",
     "output_type": "stream",
     "text": [
      "Converting:  ACF-2023-0011-0115-A1.pptx  to PDF\n",
      "Converting pptx to pdf into PDF folder:  9.899016380310059\n"
     ]
    }
   ],
   "source": [
    "st = time.time()\n",
    "path2 ='C:/Users/HaoLuo/2023_Attachments/Pptx' # set your own path\n",
    "path3 ='C:/Users/HaoLuo/2023_Attachments/Pdf'\n",
    "os.chdir(path2)\n",
    "for file_name in glob.glob('*.pptx'):\n",
    "    print('Converting: ', file_name, ' to PDF' )\n",
    "    PPTtoPDF(file_name)\n",
    "    #shutil.copy2(path2+'/'+file_name[0:-5]+'.pdf', path30+'/'+file_name[0:-5]+'.pdf')\n",
    "    shutil.move(path2+'/'+file_name[0:-5]+'.pdf', path3+'/'+file_name[0:-5]+'.pdf')\n",
    "print('Converting pptx to pdf into PDF folder: ', time.time()-st)"
   ]
  }
 ],
 "metadata": {
  "kernelspec": {
   "display_name": "Python 3 (ipykernel)",
   "language": "python",
   "name": "python3"
  },
  "language_info": {
   "codemirror_mode": {
    "name": "ipython",
    "version": 3
   },
   "file_extension": ".py",
   "mimetype": "text/x-python",
   "name": "python",
   "nbconvert_exporter": "python",
   "pygments_lexer": "ipython3",
   "version": "3.11.5"
  }
 },
 "nbformat": 4,
 "nbformat_minor": 5
}
